{
 "cells": [
  {
   "cell_type": "code",
   "execution_count": 12,
   "id": "89568e21-7ef6-4f64-bfc0-4d2e81802d3d",
   "metadata": {
    "collapsed": true,
    "editable": false,
    "jupyter": {
     "outputs_hidden": true
    },
    "slideshow": {
     "slide_type": ""
    },
    "tags": []
   },
   "outputs": [
    {
     "name": "stdout",
     "output_type": "stream",
     "text": [
      "Requirement already satisfied: pandas in /Users/adam/Library/Jupyter/kernels/jupyter311/lib/python3.11/site-packages (2.2.2)\n",
      "Requirement already satisfied: ipywidgets in /Users/adam/Library/Jupyter/kernels/jupyter311/lib/python3.11/site-packages (8.0.4)\n",
      "Requirement already satisfied: pint in /Users/adam/Library/Jupyter/kernels/jupyter311/lib/python3.11/site-packages (0.24)\n",
      "Requirement already satisfied: openpyxl in /Users/adam/Library/Jupyter/kernels/jupyter311/lib/python3.11/site-packages (3.1.2)\n",
      "Requirement already satisfied: numpy>=1.23.2 in /Users/adam/Library/Jupyter/kernels/jupyter311/lib/python3.11/site-packages (from pandas) (2.0.0)\n",
      "Requirement already satisfied: python-dateutil>=2.8.2 in /Users/adam/Library/Jupyter/kernels/jupyter311/lib/python3.11/site-packages (from pandas) (2.8.2)\n",
      "Requirement already satisfied: pytz>=2020.1 in /Users/adam/Library/Jupyter/kernels/jupyter311/lib/python3.11/site-packages (from pandas) (2022.6)\n",
      "Requirement already satisfied: tzdata>=2022.7 in /Users/adam/Library/Jupyter/kernels/jupyter311/lib/python3.11/site-packages (from pandas) (2023.3)\n",
      "Requirement already satisfied: ipykernel>=4.5.1 in /Users/adam/Library/Jupyter/kernels/jupyter311/lib/python3.11/site-packages (from ipywidgets) (6.17.0)\n",
      "Requirement already satisfied: ipython>=6.1.0 in /Users/adam/Library/Jupyter/kernels/jupyter311/lib/python3.11/site-packages (from ipywidgets) (8.6.0)\n",
      "Requirement already satisfied: traitlets>=4.3.1 in /Users/adam/Library/Jupyter/kernels/jupyter311/lib/python3.11/site-packages (from ipywidgets) (5.9.0)\n",
      "Requirement already satisfied: widgetsnbextension~=4.0 in /Users/adam/Library/Jupyter/kernels/jupyter311/lib/python3.11/site-packages (from ipywidgets) (4.0.5)\n",
      "Requirement already satisfied: jupyterlab-widgets~=3.0 in /Users/adam/Library/Jupyter/kernels/jupyter311/lib/python3.11/site-packages (from ipywidgets) (3.0.5)\n",
      "Requirement already satisfied: appdirs>=1.4.4 in /Users/adam/Library/Jupyter/kernels/jupyter311/lib/python3.11/site-packages (from pint) (1.4.4)\n",
      "Requirement already satisfied: typing-extensions in /Users/adam/Library/Jupyter/kernels/jupyter311/lib/python3.11/site-packages (from pint) (4.12.2)\n",
      "Requirement already satisfied: flexcache>=0.3 in /Users/adam/Library/Jupyter/kernels/jupyter311/lib/python3.11/site-packages (from pint) (0.3)\n",
      "Requirement already satisfied: flexparser>=0.3 in /Users/adam/Library/Jupyter/kernels/jupyter311/lib/python3.11/site-packages (from pint) (0.3.1)\n",
      "Requirement already satisfied: et-xmlfile in /Users/adam/Library/Jupyter/kernels/jupyter311/lib/python3.11/site-packages (from openpyxl) (1.1.0)\n",
      "Requirement already satisfied: appnope in /Users/adam/Library/Jupyter/kernels/jupyter311/lib/python3.11/site-packages (from ipykernel>=4.5.1->ipywidgets) (0.1.3)\n",
      "Requirement already satisfied: debugpy>=1.0 in /Users/adam/Library/Jupyter/kernels/jupyter311/lib/python3.11/site-packages (from ipykernel>=4.5.1->ipywidgets) (1.6.3)\n",
      "Requirement already satisfied: jupyter-client>=6.1.12 in /Users/adam/Library/Jupyter/kernels/jupyter311/lib/python3.11/site-packages (from ipykernel>=4.5.1->ipywidgets) (7.4.4)\n",
      "Requirement already satisfied: matplotlib-inline>=0.1 in /Users/adam/Library/Jupyter/kernels/jupyter311/lib/python3.11/site-packages (from ipykernel>=4.5.1->ipywidgets) (0.1.6)\n",
      "Requirement already satisfied: nest-asyncio in /Users/adam/Library/Jupyter/kernels/jupyter311/lib/python3.11/site-packages (from ipykernel>=4.5.1->ipywidgets) (1.5.6)\n",
      "Requirement already satisfied: packaging in /Users/adam/Library/Jupyter/kernels/jupyter311/lib/python3.11/site-packages (from ipykernel>=4.5.1->ipywidgets) (21.3)\n",
      "Requirement already satisfied: psutil in /Users/adam/Library/Jupyter/kernels/jupyter311/lib/python3.11/site-packages (from ipykernel>=4.5.1->ipywidgets) (5.9.4)\n",
      "Requirement already satisfied: pyzmq>=17 in /Users/adam/Library/Jupyter/kernels/jupyter311/lib/python3.11/site-packages (from ipykernel>=4.5.1->ipywidgets) (24.0.1)\n",
      "Requirement already satisfied: tornado>=6.1 in /Users/adam/Library/Jupyter/kernels/jupyter311/lib/python3.11/site-packages (from ipykernel>=4.5.1->ipywidgets) (6.2)\n",
      "Requirement already satisfied: backcall in /Users/adam/Library/Jupyter/kernels/jupyter311/lib/python3.11/site-packages (from ipython>=6.1.0->ipywidgets) (0.2.0)\n",
      "Requirement already satisfied: decorator in /Users/adam/Library/Jupyter/kernels/jupyter311/lib/python3.11/site-packages (from ipython>=6.1.0->ipywidgets) (5.1.1)\n",
      "Requirement already satisfied: jedi>=0.16 in /Users/adam/Library/Jupyter/kernels/jupyter311/lib/python3.11/site-packages (from ipython>=6.1.0->ipywidgets) (0.18.1)\n",
      "Requirement already satisfied: pickleshare in /Users/adam/Library/Jupyter/kernels/jupyter311/lib/python3.11/site-packages (from ipython>=6.1.0->ipywidgets) (0.7.5)\n",
      "Requirement already satisfied: prompt-toolkit<3.1.0,>3.0.1 in /Users/adam/Library/Jupyter/kernels/jupyter311/lib/python3.11/site-packages (from ipython>=6.1.0->ipywidgets) (3.0.32)\n",
      "Requirement already satisfied: pygments>=2.4.0 in /Users/adam/Library/Jupyter/kernels/jupyter311/lib/python3.11/site-packages (from ipython>=6.1.0->ipywidgets) (2.13.0)\n",
      "Requirement already satisfied: stack-data in /Users/adam/Library/Jupyter/kernels/jupyter311/lib/python3.11/site-packages (from ipython>=6.1.0->ipywidgets) (0.6.0)\n",
      "Requirement already satisfied: pexpect>4.3 in /Users/adam/Library/Jupyter/kernels/jupyter311/lib/python3.11/site-packages (from ipython>=6.1.0->ipywidgets) (4.8.0)\n",
      "Requirement already satisfied: six>=1.5 in /Users/adam/Library/Jupyter/kernels/jupyter311/lib/python3.11/site-packages (from python-dateutil>=2.8.2->pandas) (1.16.0)\n",
      "Requirement already satisfied: parso<0.9.0,>=0.8.0 in /Users/adam/Library/Jupyter/kernels/jupyter311/lib/python3.11/site-packages (from jedi>=0.16->ipython>=6.1.0->ipywidgets) (0.8.3)\n",
      "Requirement already satisfied: entrypoints in /Users/adam/Library/Jupyter/kernels/jupyter311/lib/python3.11/site-packages (from jupyter-client>=6.1.12->ipykernel>=4.5.1->ipywidgets) (0.4)\n",
      "Requirement already satisfied: jupyter-core>=4.9.2 in /Users/adam/Library/Jupyter/kernels/jupyter311/lib/python3.11/site-packages (from jupyter-client>=6.1.12->ipykernel>=4.5.1->ipywidgets) (5.2.0)\n",
      "Requirement already satisfied: ptyprocess>=0.5 in /Users/adam/Library/Jupyter/kernels/jupyter311/lib/python3.11/site-packages (from pexpect>4.3->ipython>=6.1.0->ipywidgets) (0.7.0)\n",
      "Requirement already satisfied: wcwidth in /Users/adam/Library/Jupyter/kernels/jupyter311/lib/python3.11/site-packages (from prompt-toolkit<3.1.0,>3.0.1->ipython>=6.1.0->ipywidgets) (0.2.5)\n",
      "Requirement already satisfied: pyparsing!=3.0.5,>=2.0.2 in /Users/adam/Library/Jupyter/kernels/jupyter311/lib/python3.11/site-packages (from packaging->ipykernel>=4.5.1->ipywidgets) (3.0.9)\n",
      "Requirement already satisfied: executing>=1.2.0 in /Users/adam/Library/Jupyter/kernels/jupyter311/lib/python3.11/site-packages (from stack-data->ipython>=6.1.0->ipywidgets) (1.2.0)\n",
      "Requirement already satisfied: asttokens>=2.1.0 in /Users/adam/Library/Jupyter/kernels/jupyter311/lib/python3.11/site-packages (from stack-data->ipython>=6.1.0->ipywidgets) (2.1.0)\n",
      "Requirement already satisfied: pure-eval in /Users/adam/Library/Jupyter/kernels/jupyter311/lib/python3.11/site-packages (from stack-data->ipython>=6.1.0->ipywidgets) (0.2.2)\n",
      "Requirement already satisfied: platformdirs>=2.5 in /Users/adam/Library/Jupyter/kernels/jupyter311/lib/python3.11/site-packages (from jupyter-core>=4.9.2->jupyter-client>=6.1.12->ipykernel>=4.5.1->ipywidgets) (3.1.0)\n",
      "\n",
      "\u001b[1m[\u001b[0m\u001b[34;49mnotice\u001b[0m\u001b[1;39;49m]\u001b[0m\u001b[39;49m A new release of pip is available: \u001b[0m\u001b[31;49m24.0\u001b[0m\u001b[39;49m -> \u001b[0m\u001b[32;49m25.0.1\u001b[0m\n",
      "\u001b[1m[\u001b[0m\u001b[34;49mnotice\u001b[0m\u001b[1;39;49m]\u001b[0m\u001b[39;49m To update, run: \u001b[0m\u001b[32;49m/Users/adam/Library/Jupyter/kernels/jupyter311/bin/python -m pip install --upgrade pip\u001b[0m\n",
      "Note: you may need to restart the kernel to use updated packages.\n"
     ]
    },
    {
     "data": {
      "application/vnd.jupyter.widget-view+json": {
       "model_id": "48ee9e5f9b8c4d8b88fc9d9abfe6da61",
       "version_major": 2,
       "version_minor": 0
      },
      "text/plain": [
       "VBox(children=(VBox(children=(HBox(children=(Dropdown(description='Files:', options=('menu_database.xlsx', 'am…"
      ]
     },
     "metadata": {},
     "output_type": "display_data"
    }
   ],
   "source": [
    "%pip install pandas ipywidgets pint openpyxl"
   ]
  },
  {
   "cell_type": "code",
   "execution_count": 4,
   "id": "daab0702-f9cb-435b-adb8-e8aa0dcea9bd",
   "metadata": {
    "editable": false,
    "slideshow": {
     "slide_type": ""
    },
    "tags": []
   },
   "outputs": [
    {
     "data": {
      "application/vnd.jupyter.widget-view+json": {
       "model_id": "e75654aca4ae48e6badb681037f967e0",
       "version_major": 2,
       "version_minor": 0
      },
      "text/plain": [
       "VBox(children=(VBox(children=(HTML(value=\"<h3 style='margin-bottom: 5px;'>File Selection</h3>\"), HBox(children…"
      ]
     },
     "metadata": {},
     "output_type": "display_data"
    }
   ],
   "source": [
    "%run 'code/menu_viewer.py'"
   ]
  }
 ],
 "metadata": {
  "kernelspec": {
   "display_name": "python 311 for jupyter",
   "language": "python",
   "name": "juypter311"
  },
  "language_info": {
   "codemirror_mode": {
    "name": "ipython",
    "version": 3
   },
   "file_extension": ".py",
   "mimetype": "text/x-python",
   "name": "python",
   "nbconvert_exporter": "python",
   "pygments_lexer": "ipython3",
   "version": "3.11.2"
  }
 },
 "nbformat": 4,
 "nbformat_minor": 5
}
