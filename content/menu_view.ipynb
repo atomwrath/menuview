{
 "cells": [
  {
   "cell_type": "markdown",
   "id": "9431bc18-3651-4c3a-98f7-5283bef1d7bf",
   "metadata": {},
   "source": [
    "### install first time"
   ]
  },
  {
   "cell_type": "code",
   "execution_count": null,
   "id": "86abf61a-2adb-4955-a5fa-2e6cbd57c06b",
   "metadata": {},
   "outputs": [],
   "source": [
    "%pip install ipywidgets pandas pint openpyxl"
   ]
  },
  {
   "cell_type": "markdown",
   "id": "512e3531-0a16-4ddc-82d4-20aa89df4089",
   "metadata": {},
   "source": [
    "### menu view"
   ]
  },
  {
   "cell_type": "code",
   "execution_count": 3,
   "id": "89568e21-7ef6-4f64-bfc0-4d2e81802d3d",
   "metadata": {
    "scrolled": true
   },
   "outputs": [
    {
     "data": {
      "application/vnd.jupyter.widget-view+json": {
       "model_id": "7448f0705be54f698449b76db47c67ab",
       "version_major": 2,
       "version_minor": 0
      },
      "text/plain": [
       "VBox(children=(VBox(children=(HBox(children=(Dropdown(description='Files:', options=('menu_database.xlsx', 'am…"
      ]
     },
     "metadata": {},
     "output_type": "display_data"
    }
   ],
   "source": [
    "%run 'menu_view.py'"
   ]
  }
 ],
 "metadata": {
  "kernelspec": {
   "display_name": "python 311 for jupyter",
   "language": "python",
   "name": "juypter311"
  },
  "language_info": {
   "codemirror_mode": {
    "name": "ipython",
    "version": 3
   },
   "file_extension": ".py",
   "mimetype": "text/x-python",
   "name": "python",
   "nbconvert_exporter": "python",
   "pygments_lexer": "ipython3",
   "version": "3.11.2"
  }
 },
 "nbformat": 4,
 "nbformat_minor": 5
}
